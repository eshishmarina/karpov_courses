{
 "cells": [
  {
   "cell_type": "code",
   "execution_count": 28,
   "metadata": {
    "collapsed": true,
    "pycharm": {
     "name": "#%%\n"
    }
   },
   "outputs": [],
   "source": [
    "import pandahouse\n",
    "import seaborn as sns\n",
    "from scipy import stats"
   ]
  },
  {
   "cell_type": "code",
   "execution_count": 29,
   "outputs": [],
   "source": [
    "connection = {\n",
    "    'host': 'https://clickhouse.lab.karpov.courses',\n",
    "    'password': '',\n",
    "    'user': 'student',\n",
    "    'database': 'simulator'\n",
    "}\n",
    "\n",
    "q = \"\"\"\n",
    "SELECT distinct user_id, exp_group,\n",
    "    sum(action = 'like') as likes,\n",
    "    sum(action = 'view') as views,\n",
    "    likes/views as ctr\n",
    "FROM simulator_20220820.feed_actions\n",
    "WHERE toDate(time) >= '2022-07-13' and toDate(time) <= '2022-07-19'\n",
    "GROUP BY user_id, exp_group\n",
    "\"\"\"\n",
    "\n",
    "df = pandahouse.read_clickhouse(q, connection=connection)"
   ],
   "metadata": {
    "collapsed": false,
    "pycharm": {
     "name": "#%%\n"
    }
   }
  },
  {
   "cell_type": "code",
   "execution_count": 30,
   "outputs": [],
   "source": [
    "# Шаг 1. В контрольных группах считаем общий CTR\n",
    "\n",
    "global_ctr_0 = df[df.exp_group == 0].likes.sum()/df[df.exp_group == 0].views.sum()\n",
    "global_ctr_1 = df[df.exp_group == 1].likes.sum()/df[df.exp_group == 1].views.sum()\n"
   ],
   "metadata": {
    "collapsed": false,
    "pycharm": {
     "name": "#%%\n"
    }
   }
  },
  {
   "cell_type": "code",
   "execution_count": 31,
   "outputs": [],
   "source": [
    "# Шаг 2. В каждой группе считаем метрику линеаризованных лайков\n",
    "\n",
    "def get_lin_likes(user_likes, user_views, global_ctr):\n",
    "    lin_likes = user_likes - global_ctr * user_views\n",
    "    return lin_likes\n",
    "\n",
    "group0 = df[df.exp_group == 0].copy()\n",
    "group0['lin_likes'] = df.apply(\n",
    "    lambda x: get_lin_likes(x['likes'], x['views'], global_ctr_0), axis=1)\n",
    "\n",
    "group1 = df[df.exp_group == 1].copy()\n",
    "group1['lin_likes'] = df.apply(\n",
    "    lambda x: get_lin_likes(x['likes'], x['views'], global_ctr_1), axis=1)\n",
    "\n",
    "group2 = df[df.exp_group == 2].copy()\n",
    "group2['lin_likes'] = df.apply(\n",
    "    lambda x: get_lin_likes(x['likes'], x['views'], global_ctr_1), axis=1)\n",
    "\n",
    "group3 = df[df.exp_group == 3].copy()\n",
    "group3['lin_likes'] = df.apply(\n",
    "    lambda x: get_lin_likes(x['likes'], x['views'], global_ctr_0), axis=1)"
   ],
   "metadata": {
    "collapsed": false,
    "pycharm": {
     "name": "#%%\n"
    }
   }
  },
  {
   "cell_type": "code",
   "execution_count": 42,
   "outputs": [
    {
     "name": "stdout",
     "output_type": "stream",
     "text": [
      "Ttest_indResult(statistic=-15.214995460903827, pvalue=5.4914249479690016e-52)\n"
     ]
    },
    {
     "data": {
      "text/plain": "<AxesSubplot:xlabel='lin_likes'>"
     },
     "execution_count": 42,
     "metadata": {},
     "output_type": "execute_result"
    },
    {
     "data": {
      "text/plain": "<Figure size 432x288 with 1 Axes>",
      "image/png": "[encoded data removed]"
     },
     "metadata": {
      "needs_background": "light"
     },
     "output_type": "display_data"
    }
   ],
   "source": [
    "# Шаг 3. Выполняем t-test на группах 0 и 3, сравниваем тест на лин.лайках с тестом на CTR\n",
    "\n",
    "print(stats.ttest_ind(group0['lin_likes'],\n",
    "                group3['lin_likes'],\n",
    "                equal_var=False))\n",
    "\n",
    "sns.distplot(group0.lin_likes,\n",
    "             kde = False)\n",
    "sns.distplot(group3.lin_likes,\n",
    "             kde = False)"
   ],
   "metadata": {
    "collapsed": false,
    "pycharm": {
     "name": "#%%\n"
    }
   }
  },
  {
   "cell_type": "code",
   "execution_count": 36,
   "outputs": [
    {
     "data": {
      "text/plain": "Ttest_indResult(statistic=-13.896870721904069, pvalue=1.055849414662529e-43)"
     },
     "execution_count": 36,
     "metadata": {},
     "output_type": "execute_result"
    }
   ],
   "source": [
    "stats.ttest_ind(df[df.exp_group == 0].ctr,\n",
    "                df[df.exp_group == 3].ctr,\n",
    "                equal_var=False)\n",
    "\n",
    "# По группам 0 и 3 по обеим метрикам p-value очень близок к 0"
   ],
   "metadata": {
    "collapsed": false,
    "pycharm": {
     "name": "#%%\n"
    }
   }
  },
  {
   "cell_type": "code",
   "execution_count": 41,
   "outputs": [
    {
     "name": "stdout",
     "output_type": "stream",
     "text": [
      "Ttest_indResult(statistic=6.122579994775974, pvalue=9.439432187037644e-10)\n"
     ]
    },
    {
     "data": {
      "text/plain": "<AxesSubplot:xlabel='lin_likes'>"
     },
     "execution_count": 41,
     "metadata": {},
     "output_type": "execute_result"
    },
    {
     "data": {
      "text/plain": "<Figure size 432x288 with 1 Axes>",
      "image/png": "[encoded data removed]"
     },
     "metadata": {
      "needs_background": "light"
     },
     "output_type": "display_data"
    }
   ],
   "source": [
    "# Выполняем t-test на группах 1 и 2, сравниваем тест на лин.лайках с тестом на CTR\n",
    "\n",
    "print(stats.ttest_ind(group1['lin_likes'],\n",
    "                group2['lin_likes'],\n",
    "                equal_var=False))\n",
    "\n",
    "sns.distplot(group1.lin_likes,\n",
    "             kde = False)\n",
    "sns.distplot(group2.lin_likes,\n",
    "             kde = False)"
   ],
   "metadata": {
    "collapsed": false,
    "pycharm": {
     "name": "#%%\n"
    }
   }
  },
  {
   "cell_type": "code",
   "execution_count": 39,
   "outputs": [
    {
     "data": {
      "text/plain": "Ttest_indResult(statistic=0.7094392041270486, pvalue=0.4780623130874935)"
     },
     "execution_count": 39,
     "metadata": {},
     "output_type": "execute_result"
    }
   ],
   "source": [
    "stats.ttest_ind(df[df.exp_group == 1].ctr,\n",
    "                df[df.exp_group == 2].ctr,\n",
    "                equal_var=False)\n",
    "\n",
    "# По группам 1 и 2 по обеим метрикам p-value различается. По метрике лин.лайков p-value очень близок к 0, а по CTR p-value=0.48, что приводит к разным результатам теста"
   ],
   "metadata": {
    "collapsed": false,
    "pycharm": {
     "name": "#%%\n"
    }
   }
  },
  {
   "cell_type": "markdown",
   "source": [
    "Итог: для групп 1 и 2 разница в p-value оказалась критичной и повлияла на результаты теста. Тест по линеаризованным лайкам показал более достоверный результат (что подтверждают проведенные тесты из задания 2)."
   ],
   "metadata": {
    "collapsed": false,
    "pycharm": {
     "name": "#%% md\n"
    }
   }
  }
 ],
 "metadata": {
  "kernelspec": {
   "display_name": "Python 3",
   "language": "python",
   "name": "python3"
  },
  "language_info": {
   "codemirror_mode": {
    "name": "ipython",
    "version": 2
   },
   "file_extension": ".py",
   "mimetype": "text/x-python",
   "name": "python",
   "nbconvert_exporter": "python",
   "pygments_lexer": "ipython2",
   "version": "2.7.6"
  }
 },
 "nbformat": 4,
 "nbformat_minor": 0
}